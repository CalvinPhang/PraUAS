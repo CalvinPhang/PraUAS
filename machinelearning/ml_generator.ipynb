{
 "cells": [
  {
   "cell_type": "code",
   "execution_count": 24,
   "metadata": {},
   "outputs": [],
   "source": [
    "import numpy as np\n",
    "import pandas as pd"
   ]
  },
  {
   "cell_type": "code",
   "execution_count": 9,
   "metadata": {},
   "outputs": [],
   "source": [
    "def generate_array(start, stop):\n",
    "    values = np.linspace(start, stop, 10)\n",
    "    variance = 0.1 * values\n",
    "    values += np.round(np.random.uniform(low=-variance, high=variance, size=10),3)\n",
    "    return values"
   ]
  },
  {
   "cell_type": "code",
   "execution_count": 29,
   "metadata": {},
   "outputs": [],
   "source": [
    "array = [[-10,50,0,100,-10,50,0,500],[-10,50,0,100,600,1200,0,7000],[0,2000,0,20,0,2000,0,2000]]\n",
    "heading = [['temp', 'rate', 'out', 'heater'], ['temp', 'hum', 'co2', 'fan'], ['light', 'occ', 'day', 'led']]\n",
    "csv_file = ['heater.csv', 'fan.csv', 'light.csv']\n",
    "for i in range (3):\n",
    "    x = array[i]\n",
    "    data = pd.DataFrame({\n",
    "        heading[i][0]: generate_array(x[0],x[1]),\n",
    "        heading[i][1]: generate_array(x[2],x[3]),\n",
    "        heading[i][2]: generate_array(x[4],x[5]),\n",
    "        heading[i][3]: generate_array(x[6],x[7])\n",
    "        })\n",
    "    data.to_csv(csv_file[i], index=False)\n"
   ]
  },
  {
   "cell_type": "code",
   "execution_count": null,
   "metadata": {},
   "outputs": [],
   "source": []
  }
 ],
 "metadata": {
  "kernelspec": {
   "display_name": "Python 3",
   "language": "python",
   "name": "python3"
  },
  "language_info": {
   "codemirror_mode": {
    "name": "ipython",
    "version": 3
   },
   "file_extension": ".py",
   "mimetype": "text/x-python",
   "name": "python",
   "nbconvert_exporter": "python",
   "pygments_lexer": "ipython3",
   "version": "3.8.12"
  },
  "orig_nbformat": 4
 },
 "nbformat": 4,
 "nbformat_minor": 2
}
