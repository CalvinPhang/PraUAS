{
 "cells": [
  {
   "cell_type": "code",
   "execution_count": 1,
   "metadata": {},
   "outputs": [],
   "source": [
    "import numpy as np\n",
    "import pandas as pd"
   ]
  },
  {
   "cell_type": "code",
   "execution_count": 2,
   "metadata": {},
   "outputs": [],
   "source": [
    "def generate_array(start, stop):\n",
    "    values = np.linspace(start, stop, 10)\n",
    "    variance = 0.1 * values\n",
    "    values += np.round(np.random.uniform(low=-variance, high=variance, size=10),3)\n",
    "    return values"
   ]
  },
  {
   "cell_type": "code",
   "execution_count": 7,
   "metadata": {},
   "outputs": [],
   "source": [
    "array = [[0,180,0,100,0,1000,0,100],[0,100,0,100,0,100,0,100],[0,50,0,10,0,14,0,100]]\n",
    "heading = [['yolk', 'ammonia', 'bacteria', 'purifier'], ['hum', 'ozone', 'gas', 'mist'], ['nir', 'impedance', 'ph', 'vinegar']]\n",
    "csv_file = ['dairy.csv', 'redmeat.csv', 'whitemeat.csv']\n",
    "for i in range (3):\n",
    "    x = array[i]\n",
    "    data = pd.DataFrame({\n",
    "        heading[i][0]: generate_array(x[0],x[1]),\n",
    "        heading[i][1]: generate_array(x[2],x[3]),\n",
    "        heading[i][2]: generate_array(x[4],x[5]),\n",
    "        heading[i][3]: generate_array(x[6],x[7])\n",
    "        })\n",
    "    data.to_csv(csv_file[i], index=False)\n"
   ]
  },
  {
   "cell_type": "code",
   "execution_count": 6,
   "metadata": {},
   "outputs": [],
   "source": [
    "array = [[0,30,0,100,0,1000,0,100],[0,100,0,1000,-40,125,0,1000],[0,5000,0,100,0,100,0,100]]\n",
    "heading = [['moist', 'texture', 'density', 'infrared'], ['activity', 'ethylene', 'temperature', 'led'], ['weight', 'maturity', 'spectrometer', 'humidifier']]\n",
    "csv_file = ['grains.csv', 'sayuran.csv', 'fruit.csv']\n",
    "for i in range (3):\n",
    "    x = array[i]\n",
    "    data = pd.DataFrame({\n",
    "        heading[i][0]: generate_array(x[0],x[1]),\n",
    "        heading[i][1]: generate_array(x[2],x[3]),\n",
    "        heading[i][2]: generate_array(x[4],x[5]),\n",
    "        heading[i][3]: generate_array(x[6],x[7])\n",
    "        })\n",
    "    data.to_csv(csv_file[i], index=False)"
   ]
  },
  {
   "cell_type": "code",
   "execution_count": 8,
   "metadata": {},
   "outputs": [],
   "source": [
    "array = [[0,100,0,15,0,75,0,100],[40,90,15,60,0,30,0,1000],[0,1000,350,5000,1,60,0,200]]\n",
    "heading = [['soil', 'uv', 'wind', 'hvac'], ['noise', 'turnover', 'wait', 'sales'], ['smell', 'co2', 'dish', 'total']]\n",
    "csv_file = ['musim.csv', 'sales.csv', 'customer.csv']\n",
    "for i in range (3):\n",
    "    x = array[i]\n",
    "    data = pd.DataFrame({\n",
    "        heading[i][0]: generate_array(x[0],x[1]),\n",
    "        heading[i][1]: generate_array(x[2],x[3]),\n",
    "        heading[i][2]: generate_array(x[4],x[5]),\n",
    "        heading[i][3]: generate_array(x[6],x[7])\n",
    "        })\n",
    "    data.to_csv(csv_file[i], index=False)"
   ]
  },
  {
   "cell_type": "code",
   "execution_count": null,
   "metadata": {},
   "outputs": [],
   "source": []
  }
 ],
 "metadata": {
  "kernelspec": {
   "display_name": "Python 3",
   "language": "python",
   "name": "python3"
  },
  "language_info": {
   "codemirror_mode": {
    "name": "ipython",
    "version": 3
   },
   "file_extension": ".py",
   "mimetype": "text/x-python",
   "name": "python",
   "nbconvert_exporter": "python",
   "pygments_lexer": "ipython3",
   "version": "3.8.12"
  },
  "orig_nbformat": 4
 },
 "nbformat": 4,
 "nbformat_minor": 2
}
